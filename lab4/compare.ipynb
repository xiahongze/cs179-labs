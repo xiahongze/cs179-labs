{
 "cells": [
  {
   "cell_type": "code",
   "execution_count": 1,
   "metadata": {},
   "outputs": [],
   "source": [
    "import numpy as np\n",
    "import scipy.linalg as la\n",
    "import pandas as pd\n",
    "np.set_printoptions(suppress=True)"
   ]
  },
  {
   "cell_type": "code",
   "execution_count": 2,
   "metadata": {},
   "outputs": [],
   "source": [
    "def load_object_vertices(filename):\n",
    "    df = pd.read_csv(filename, header=None, delimiter=' ')\n",
    "    vertices = df.loc[df[0] == 'v', 1:].values.astype(np.float64)\n",
    "    # append 1 to each vertex\n",
    "    return np.hstack((vertices, np.ones((vertices.shape[0], 1))))"
   ]
  },
  {
   "cell_type": "code",
   "execution_count": 3,
   "metadata": {},
   "outputs": [],
   "source": [
    "a, b = load_object_vertices('resources/bunny2.obj'), load_object_vertices('resources/bunny2_trans.obj')"
   ]
  },
  {
   "cell_type": "code",
   "execution_count": 4,
   "metadata": {},
   "outputs": [
    {
     "data": {
      "text/plain": [
       "((14290, 4), (14290, 4))"
      ]
     },
     "execution_count": 4,
     "metadata": {},
     "output_type": "execute_result"
    }
   ],
   "source": [
    "a.shape, b.shape"
   ]
  },
  {
   "cell_type": "code",
   "execution_count": 5,
   "metadata": {},
   "outputs": [
    {
     "data": {
      "text/plain": [
       "array([[ 4118.01034397, -1015.80105369,  -118.4702156 , -1793.03703061],\n",
       "       [-1015.80105369,  4939.86827488,  -984.15225541, -3149.72391525],\n",
       "       [ -118.4702156 ,  -984.15225541,  2030.41484368,  1842.91859957],\n",
       "       [-1793.03703061, -3149.72391525,  1842.91859957, 14290.        ]])"
      ]
     },
     "execution_count": 5,
     "metadata": {},
     "output_type": "execute_result"
    }
   ],
   "source": [
    "a.T @ a"
   ]
  },
  {
   "cell_type": "code",
   "execution_count": 6,
   "metadata": {},
   "outputs": [
    {
     "data": {
      "text/plain": [
       "array([[   60.87463481,  -507.9005364 ,  2058.95737488, -1793.03703061],\n",
       "       [  491.6715955 ,  2469.93411963,  -508.29219602, -3149.72391525],\n",
       "       [-1015.25430629,  -492.07612277,   -58.42671704,  1842.91859957],\n",
       "       [ -922.17292097, -1574.86195052,  -895.78452862, 14290.        ]])"
      ]
     },
     "execution_count": 6,
     "metadata": {},
     "output_type": "execute_result"
    }
   ],
   "source": [
    "a.T @ b"
   ]
  },
  {
   "cell_type": "code",
   "execution_count": 7,
   "metadata": {},
   "outputs": [],
   "source": [
    "lu, piv = la.lu_factor(a.T @ a)"
   ]
  },
  {
   "cell_type": "code",
   "execution_count": 8,
   "metadata": {},
   "outputs": [
    {
     "data": {
      "text/plain": [
       "(array([0, 1, 2, 3], dtype=int32),\n",
       " array([[ 4118.01034397, -1015.80105369,  -118.4702156 , -1793.03703061],\n",
       "        [   -0.24667278,  4689.2978065 , -1013.37563267, -3592.01734166],\n",
       "        [   -0.0287688 ,    -0.21610392,  1808.01215226,  1015.08605187],\n",
       "        [   -0.43541344,    -0.76600325,     0.56143763, 10187.8831392 ]]))"
      ]
     },
     "execution_count": 8,
     "metadata": {},
     "output_type": "execute_result"
    }
   ],
   "source": [
    "piv, lu"
   ]
  },
  {
   "cell_type": "code",
   "execution_count": 9,
   "metadata": {},
   "outputs": [],
   "source": [
    "x = la.lu_solve((lu, piv), a.T @ b)"
   ]
  },
  {
   "cell_type": "code",
   "execution_count": 10,
   "metadata": {},
   "outputs": [
    {
     "data": {
      "text/plain": [
       "array([[ 0.00039814, -0.        ,  0.49999985,  0.        ],\n",
       "       [ 0.00000001,  0.49999999, -0.        ,  0.        ],\n",
       "       [-0.49999986,  0.        ,  0.00039813,  0.        ],\n",
       "       [ 0.        , -0.        , -0.        ,  1.        ]])"
      ]
     },
     "execution_count": 10,
     "metadata": {},
     "output_type": "execute_result"
    }
   ],
   "source": [
    "x"
   ]
  },
  {
   "cell_type": "code",
   "execution_count": 11,
   "metadata": {},
   "outputs": [
    {
     "data": {
      "text/plain": [
       "array([[-0.00000023,  0.        , -0.00000036, -0.        ],\n",
       "       [ 0.00000004, -0.0000005 , -0.00000028,  0.        ],\n",
       "       [ 0.00000037, -0.0000005 , -0.00000044, -0.        ],\n",
       "       ...,\n",
       "       [ 0.00000001, -0.        ,  0.00000004,  0.        ],\n",
       "       [ 0.00000038,  0.0000005 , -0.00000043,  0.        ],\n",
       "       [-0.00000016, -0.        ,  0.00000035,  0.        ]])"
      ]
     },
     "execution_count": 11,
     "metadata": {},
     "output_type": "execute_result"
    }
   ],
   "source": [
    "(x.T @ a.T).T - b"
   ]
  },
  {
   "cell_type": "code",
   "execution_count": 12,
   "metadata": {},
   "outputs": [
    {
     "data": {
      "text/plain": [
       "array([[-0.00000023,  0.        , -0.00000036, -0.        ],\n",
       "       [ 0.00000004, -0.0000005 , -0.00000028,  0.        ],\n",
       "       [ 0.00000037, -0.0000005 , -0.00000044, -0.        ],\n",
       "       ...,\n",
       "       [ 0.00000001, -0.        ,  0.00000004,  0.        ],\n",
       "       [ 0.00000038,  0.0000005 , -0.00000043,  0.        ],\n",
       "       [-0.00000016, -0.        ,  0.00000035,  0.        ]])"
      ]
     },
     "execution_count": 12,
     "metadata": {},
     "output_type": "execute_result"
    }
   ],
   "source": [
    "a @ x - b"
   ]
  },
  {
   "cell_type": "code",
   "execution_count": null,
   "metadata": {},
   "outputs": [],
   "source": []
  }
 ],
 "metadata": {
  "kernelspec": {
   "display_name": "pandas",
   "language": "python",
   "name": "python3"
  },
  "language_info": {
   "codemirror_mode": {
    "name": "ipython",
    "version": 3
   },
   "file_extension": ".py",
   "mimetype": "text/x-python",
   "name": "python",
   "nbconvert_exporter": "python",
   "pygments_lexer": "ipython3",
   "version": "3.9.13"
  },
  "orig_nbformat": 4
 },
 "nbformat": 4,
 "nbformat_minor": 2
}
